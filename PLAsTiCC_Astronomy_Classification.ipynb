{
 "cells": [
  {
   "cell_type": "markdown",
   "metadata": {},
   "source": [
    "This notebook demonstrates some Machine Learning and data analysis techniques which can be carried out using PySpark on ALCF's Theta or Cooley cluster.\n",
    "The original kernel was developed for the PLAsTiCC challenge on Kaggle and has been adapted to use pySpark.\n",
    "\n",
    "*Elise Jennings (ejennings@anl.gov)*\n",
    "\n",
    "Required Python packages:\n",
    "- numpy\n",
    "- sklearn\n",
    "- seaborn\n",
    "- astropy\n",
    "- cesium"
   ]
  },
  {
   "cell_type": "code",
   "execution_count": 1,
   "metadata": {
    "collapsed": false
   },
   "outputs": [
    {
     "name": "stderr",
     "output_type": "stream",
     "text": [
      "/home/elise/.local/lib/python3.5/site-packages/sklearn/utils/fixes.py:313: FutureWarning: numpy not_equal will not check object identity in the future. The comparison did not return the same result as suggested by the identity (`is`)) and will change.\n",
      "  _nan_object_mask = _nan_object_array != _nan_object_array\n"
     ]
    }
   ],
   "source": [
    "%matplotlib inline\n",
    "\n",
    "import os\n",
    "from collections import Counter, OrderedDict\n",
    "import numpy as np\n",
    "from operator import itemgetter\n",
    "import matplotlib.pyplot as plt\n",
    "from astropy.table import Table\n",
    "from cesium.time_series import TimeSeries\n",
    "import cesium.featurize as featurize\n",
    "import sklearn \n",
    "from sklearn.model_selection import StratifiedShuffleSplit\n",
    "from sklearn.decomposition import PCA\n",
    "from sklearn.ensemble import RandomForestClassifier\n",
    "from sklearn.metrics import confusion_matrix\n",
    "import seaborn as sns"
   ]
  },
  {
   "cell_type": "markdown",
   "metadata": {},
   "source": [
    "\n",
    "# Datasets\n",
    "\n",
    "The data for this notebook is available at https://www.kaggle.com/c/PLAsTiCC-2018/data together with a description of each file. The dataset  is split into a light curve table and a metadata table. \n",
    "\n",
    "\n",
    "Below we split up the smaller training set (7848 samples) and featurize, carry out a PCA and apply a random forest classifier.\n",
    "Ideally we would train on all of the training set and then test using larger test set (3.49M samples). Below the training set is split for training and testing for demonstrations purposes.\n",
    "\n",
    "We describe a mapping from string passband name to integer passband IDs. Here, we'll create an OrderedDict to invert that transformation."
   ]
  },
  {
   "cell_type": "code",
   "execution_count": 2,
   "metadata": {
    "collapsed": false
   },
   "outputs": [],
   "source": [
    "pbmap = OrderedDict([(0,'u'), (1,'g'), (2,'r'), (3,'i'), (4, 'z'), (5, 'Y')])\n",
    "\n",
    "# it also helps to have passbands associated with a color\n",
    "pbcols = OrderedDict([(0,'blueviolet'), (1,'green'), (2,'red'),\\\n",
    "                      (3,'orange'), (4, 'black'), (5, 'brown')])\n",
    "\n",
    "pbnames = list(pbmap.values())"
   ]
  },
  {
   "cell_type": "code",
   "execution_count": 3,
   "metadata": {
    "collapsed": false
   },
   "outputs": [],
   "source": [
    "metafilename = '/projects/datascience/elise/PLAsTiCC_data/training_set_metadata.csv'\n",
    "metadata = Table.read(metafilename, format='csv')\n",
    "nobjects = len(metadata)"
   ]
  },
  {
   "cell_type": "code",
   "execution_count": 4,
   "metadata": {
    "collapsed": true
   },
   "outputs": [],
   "source": [
    "test_metafilename = '/projects/datascience/elise/PLAsTiCC_data/test_set_metadata.csv'\n",
    "test_metadata = Table.read(test_metafilename, format='csv')\n",
    "test_nobjects = len(test_metadata)"
   ]
  },
  {
   "cell_type": "code",
   "execution_count": 4,
   "metadata": {
    "collapsed": false
   },
   "outputs": [
    {
     "data": {
      "text/plain": [
       "astropy.table.table.Table"
      ]
     },
     "execution_count": 4,
     "metadata": {},
     "output_type": "execute_result"
    }
   ],
   "source": [
    "lcfilename = '/projects/datascience/elise/PLAsTiCC_data/training_set.csv'\n",
    "lcdata = Table.read(lcfilename, format='csv')\n",
    "type(metadata)"
   ]
  },
  {
   "cell_type": "code",
   "execution_count": 5,
   "metadata": {
    "collapsed": true
   },
   "outputs": [],
   "source": [
    "#Create Cesium timeseries for each sample\n",
    "\n",
    "def create_timeseries(row):\n",
    "    thisid = row['object_id']\n",
    "    target = row['target']\n",
    "    \n",
    "    meta = {'z':row['hostgal_photoz'],\\\n",
    "            'zerr':row['hostgal_photoz_err'],\\\n",
    "            'mwebv':row['mwebv']}\n",
    "    \n",
    "    ind = (lcdata['object_id'] == thisid)\n",
    "    thislc = lcdata[ind]\n",
    "\n",
    "    pbind = [(thislc['passband'] == pb) for pb in pbmap]\n",
    "    t = [thislc['mjd'][mask].data for mask in pbind ]\n",
    "    m = [thislc['flux'][mask].data for mask in pbind ]\n",
    "    e = [thislc['flux_err'][mask].data for mask in pbind ]\n",
    "\n",
    "    ts = TimeSeries(t=t, m=m, e=e,\\\n",
    "                        label=target, name=thisid, meta_features=meta,\\\n",
    "                        channel_names=pbnames )\n",
    "    return thisid,ts\n"
   ]
  },
  {
   "cell_type": "markdown",
   "metadata": {
    "collapsed": false
   },
   "source": [
    " # Create a rdd"
   ]
  },
  {
   "cell_type": "code",
   "execution_count": 6,
   "metadata": {
    "collapsed": true
   },
   "outputs": [],
   "source": [
    "rdd = sc.parallelize(metadata)\n"
   ]
  },
  {
   "cell_type": "code",
   "execution_count": 7,
   "metadata": {
    "collapsed": true
   },
   "outputs": [],
   "source": [
    "result=rdd.map(create_timeseries)"
   ]
  },
  {
   "cell_type": "code",
   "execution_count": 8,
   "metadata": {
    "collapsed": false
   },
   "outputs": [],
   "source": [
    "tsdict = OrderedDict()\n",
    "\n",
    "runresult = result.collect()\n",
    "\n",
    "for r in runresult:\n",
    "    tsdict[r[0]] = r[1]\n",
    "    "
   ]
  },
  {
   "cell_type": "markdown",
   "metadata": {},
   "source": [
    "# Find features\n",
    "For each time series find certain features using Cesium"
   ]
  },
  {
   "cell_type": "code",
   "execution_count": 9,
   "metadata": {
    "collapsed": false
   },
   "outputs": [],
   "source": [
    "features_to_use = [\"amplitude\",\n",
    "                   \"percent_beyond_1_std\",\n",
    "                   \"maximum\",\n",
    "                   \"max_slope\",\n",
    "                   \"median\",\n",
    "                   \"median_absolute_deviation\",\n",
    "                   \"percent_close_to_median\",\n",
    "                   \"minimum\",\n",
    "                   \"skew\",\n",
    "                   \"std\",\n",
    "                   \"weighted_average\"]"
   ]
  },
  {
   "cell_type": "code",
   "execution_count": 10,
   "metadata": {
    "collapsed": true
   },
   "outputs": [],
   "source": [
    "def find_features(tsobj):\n",
    "    thisfeats = featurize.featurize_single_ts(tsobj,\\\n",
    "    features_to_use=features_to_use,\n",
    "    raise_exceptions=False)\n",
    "    return thisfeats"
   ]
  },
  {
   "cell_type": "code",
   "execution_count": 11,
   "metadata": {
    "collapsed": true
   },
   "outputs": [],
   "source": [
    "rdd_2 = sc.parallelize(tsdict.values())"
   ]
  },
  {
   "cell_type": "code",
   "execution_count": 12,
   "metadata": {
    "collapsed": true
   },
   "outputs": [],
   "source": [
    "result_2=rdd_2.map(find_features)"
   ]
  },
  {
   "cell_type": "code",
   "execution_count": 17,
   "metadata": {
    "collapsed": false
   },
   "outputs": [],
   "source": [
    "featurefile = 'plasticc_featuretable.npz'\n",
    "\n",
    "if os.path.exists(featurefile):\n",
    "    featuretable, _ = featurize.load_featureset(featurefile)\n",
    "else:\n",
    "    results_2 = result_2.collect()\n",
    " \n",
    "    featuretable = featurize.assemble_featureset(features_list=results_2,\\\n",
    "                                  time_series=tsdict.values())\n",
    "    featurize.save_featureset(fset=featuretable, path=featurefile)"
   ]
  },
  {
   "cell_type": "markdown",
   "metadata": {
    "collapsed": true
   },
   "source": [
    "# Feature Table\n",
    "\n",
    "The computed feature table has descriptive statistics for each object which are a low-dimensional encoding of the information in the light curves. We need to process this into a simple table and split into training and testing data sets."
   ]
  },
  {
   "cell_type": "code",
   "execution_count": 18,
   "metadata": {
    "collapsed": false
   },
   "outputs": [],
   "source": [
    "old_names = featuretable.columns.values\n",
    "new_names = ['{}_{}'.format(x, pbmap.get(y,'meta')) for x,y in old_names]\n",
    "cols = [featuretable[col] for col in old_names]\n",
    "allfeats = Table(cols, names=new_names)\n",
    "del featuretable"
   ]
  },
  {
   "cell_type": "code",
   "execution_count": 19,
   "metadata": {
    "collapsed": true
   },
   "outputs": [],
   "source": [
    "splitter = StratifiedShuffleSplit(n_splits=1, test_size=0.3, random_state=42)\n",
    "splits = list(splitter.split(allfeats, metadata['target']))[0]\n",
    "train_ind, test_ind = splits"
   ]
  },
  {
   "cell_type": "code",
   "execution_count": 20,
   "metadata": {
    "collapsed": true
   },
   "outputs": [],
   "source": [
    "Xtrain = np.array(allfeats[train_ind].as_array().tolist())\n",
    "Ytrain = np.array(metadata['target'][train_ind].tolist())\n",
    "\n",
    "Xtest  = np.array(allfeats[test_ind].as_array().tolist())\n",
    "Ytest  = np.array(metadata['target'][test_ind].tolist())"
   ]
  },
  {
   "cell_type": "code",
   "execution_count": 21,
   "metadata": {
    "collapsed": true
   },
   "outputs": [],
   "source": [
    "ncols = len(new_names)\n",
    "npca  = (ncols  - 3)//len(pbnames)  + 3"
   ]
  },
  {
   "cell_type": "markdown",
   "metadata": {},
   "source": [
    "# PCA\n",
    "Carry out PCA on the features"
   ]
  },
  {
   "cell_type": "code",
   "execution_count": 22,
   "metadata": {
    "collapsed": true
   },
   "outputs": [],
   "source": [
    "pca = PCA(n_components=npca, whiten=True, svd_solver=\"full\", random_state=42)\n",
    "Xtrain_pca = pca.fit_transform(Xtrain)\n",
    "Xtest_pca = pca.transform(Xtest)"
   ]
  },
  {
   "cell_type": "code",
   "execution_count": 23,
   "metadata": {
    "collapsed": false
   },
   "outputs": [
    {
     "data": {
      "image/png": "[encoded data removed]",
      "text/plain": [
       "<matplotlib.figure.Figure at 0x7fec98ee6a58>"
      ]
     },
     "metadata": {},
     "output_type": "display_data"
    }
   ],
   "source": [
    "fig, ax = plt.subplots()\n",
    "ax.plot(np.arange(npca), pca.explained_variance_ratio_, color='r')\n",
    "ax2 = ax.twinx()\n",
    "ax2.plot(np.arange(npca), np.cumsum(pca.explained_variance_ratio_), color='b')\n",
    "ax.set_yscale('log')\n",
    "ax.set_xlabel('PCA Component')\n",
    "ax.set_ylabel('Explained Variance Ratio')\n",
    "ax2.set_ylabel('Cumulative Explained Ratio')\n",
    "fig.tight_layout()"
   ]
  },
  {
   "cell_type": "markdown",
   "metadata": {},
   "source": [
    "# Random Forest classifier\n",
    "We'll use a random forest here, but we can try other classifiers."
   ]
  },
  {
   "cell_type": "code",
   "execution_count": 24,
   "metadata": {
    "collapsed": true
   },
   "outputs": [],
   "source": [
    "clf = RandomForestClassifier(n_estimators=200, criterion='gini',\\\n",
    "                       oob_score=True, n_jobs=-1, random_state=42,\\\n",
    "                      verbose=1, class_weight='balanced', max_features='sqrt')"
   ]
  },
  {
   "cell_type": "code",
   "execution_count": 25,
   "metadata": {
    "collapsed": false
   },
   "outputs": [
    {
     "name": "stderr",
     "output_type": "stream",
     "text": [
      "[Parallel(n_jobs=-1)]: Using backend ThreadingBackend with 12 concurrent workers.\n",
      "[Parallel(n_jobs=-1)]: Done  26 tasks      | elapsed:    0.1s\n",
      "[Parallel(n_jobs=-1)]: Done 176 tasks      | elapsed:    0.4s\n",
      "[Parallel(n_jobs=-1)]: Done 200 out of 200 | elapsed:    0.5s finished\n",
      "[Parallel(n_jobs=12)]: Using backend ThreadingBackend with 12 concurrent workers.\n",
      "[Parallel(n_jobs=12)]: Done  26 tasks      | elapsed:    0.0s\n",
      "[Parallel(n_jobs=12)]: Done 176 tasks      | elapsed:    0.1s\n",
      "[Parallel(n_jobs=12)]: Done 200 out of 200 | elapsed:    0.1s finished\n"
     ]
    }
   ],
   "source": [
    "clf.fit(Xtrain_pca, Ytrain)\n",
    "Ypred = clf.predict(Xtest_pca)"
   ]
  },
  {
   "cell_type": "code",
   "execution_count": 26,
   "metadata": {
    "collapsed": false
   },
   "outputs": [],
   "source": [
    "counts = Counter(metadata['target'])\n",
    "labels, values = zip(*sorted(counts.items(), key=itemgetter(1)))\n",
    "\n",
    "cm = confusion_matrix(Ytest, Ypred, labels=labels)\n",
    "cm = cm.astype('float') / cm.sum(axis=1)[:, np.newaxis]\n",
    "annot = np.around(cm, 2)"
   ]
  },
  {
   "cell_type": "code",
   "execution_count": 27,
   "metadata": {
    "collapsed": false
   },
   "outputs": [
    {
     "data": {
      "image/png": "[encoded data removed]",
      "text/plain": [
       "<matplotlib.figure.Figure at 0x7fec98746eb8>"
      ]
     },
     "metadata": {},
     "output_type": "display_data"
    }
   ],
   "source": [
    "\n",
    "fig, ax = plt.subplots(figsize=(9,7))\n",
    "sns.heatmap(cm, xticklabels=labels, yticklabels=labels, cmap='Blues', annot=annot, lw=0.5)\n",
    "ax.set_xlabel('Predicted Label')\n",
    "ax.set_ylabel('True Label')\n",
    "ax.set_aspect('equal')"
   ]
  },
  {
   "cell_type": "code",
   "execution_count": null,
   "metadata": {
    "collapsed": true
   },
   "outputs": [],
   "source": []
  }
 ],
 "metadata": {
  "kernelspec": {
   "display_name": "Python 3",
   "language": "python",
   "name": "python3"
  },
  "language_info": {
   "codemirror_mode": {
    "name": "ipython",
    "version": 3
   },
   "file_extension": ".py",
   "mimetype": "text/x-python",
   "name": "python",
   "nbconvert_exporter": "python",
   "pygments_lexer": "ipython3",
   "version": "3.5.1"
  }
 },
 "nbformat": 4,
 "nbformat_minor": 0
}
